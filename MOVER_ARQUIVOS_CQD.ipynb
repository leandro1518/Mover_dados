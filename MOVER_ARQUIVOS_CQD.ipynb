{
 "cells": [
  {
   "cell_type": "markdown",
   "id": "941e4030-8126-49db-bced-74d803637b65",
   "metadata": {},
   "source": [
    "Leia-Me: Script de Processamento de Arquivos\n",
    "\n",
    "O que o script faz?\n",
    "\n",
    "->Procura subpastas que começam com \"BK_\".\n",
    "\n",
    "->Renomeia arquivos que começam com \"df\" (adiciona a data de modificação no nome).\n",
    "-.Move os arquivos renomeados para uma pasta chamada \"Dados_Tratados\".\n",
    "->Registra tudo isso num arquivo CSV chamado \"rel_cargas.csv\".\n",
    "->Ignora arquivos duplicados.\n",
    "\n",
    "Antes de usar\n",
    "Instale as bibliotecas necessárias:\n",
    "pip install pandas\n",
    "\n",
    "Organize as pastas:\n",
    "->Base: Coloque os arquivos em C:\\Users\\Admin\\Desktop\\BACKUP (ou outro caminho, é só ajustar no código).\n",
    "->Saída: A pasta Dados_Tratados será criada automaticamente.\n",
    "->Como usar?\n",
    "->Coloque os arquivos nas subpastas que começam com BK_.\n",
    "->Ajuste o caminho base no código, se necessário.\n",
    "!!Execute o script.\n"
   ]
  },
  {
   "cell_type": "markdown",
   "id": "5e62ac7b-237e-49a9-960e-54353f494716",
   "metadata": {},
   "source": [
    "#Importação de bibliotecas e definição de caminhos\n",
    "import os\n",
    "import pandas as pd\n",
    "from datetime import datetime\n",
    "import shutil\n",
    "\n",
    "# Caminhos das pastas (pode ser alterado)\n",
    "caminho_base = r'C:\\Users\\Admin\\Desktop\\BACKUP'  # Caminho base para os arquivos\n",
    "caminho_dados_tratados = os.path.join(caminho_base, 'Dados_Tratados')  # Pasta de arquivos tratados\n",
    "caminho_rel_cargas = os.path.join(caminho_base, 'rel_cargas', 'rel_cargas.csv')  # Arquivo de registro"
   ]
  },
  {
   "cell_type": "code",
   "execution_count": 20,
   "id": "7c8d54e0-4738-4898-b327-f6a002d80727",
   "metadata": {},
   "outputs": [],
   "source": [
    "import os\n",
    "import pandas as pd\n",
    "from datetime import datetime\n",
    "import shutil\n",
    "\n",
    "# Caminhos das pastas (pode ser alterado)\n",
    "caminho_base = r'C:\\Users\\Admin\\Desktop\\BACKUP'  # Caminho base para os arquivos\n",
    "caminho_dados_tratados = os.path.join(caminho_base, 'Dados_Tratados')  # Pasta de arquivos tratados\n",
    "caminho_rel_cargas = os.path.join(caminho_base, 'rel_cargas', 'rel_cargas.csv')  # Arquivo de registro\n"
   ]
  },
  {
   "cell_type": "markdown",
   "id": "9296e746-f276-44a0-95c8-01dc15be97ea",
   "metadata": {},
   "source": [
    "Função para obter a data de modificação do arquivo"
   ]
  },
  {
   "cell_type": "code",
   "execution_count": 21,
   "id": "b18ec269-a8a9-4066-a343-2bdf1904bddc",
   "metadata": {},
   "outputs": [],
   "source": [
    "def obter_data_modificacao(arquivo_path):\n",
    "    \"\"\"\n",
    "    Retorna a data de modificação do arquivo no formato 'YYYY-MM-DD'.\n",
    "    \"\"\"\n",
    "    timestamp = os.path.getmtime(arquivo_path)\n",
    "    return datetime.fromtimestamp(timestamp).strftime('%Y-%m-%d')"
   ]
  },
  {
   "cell_type": "markdown",
   "id": "55019391-f5a8-470b-a76c-d720ce113e9f",
   "metadata": {},
   "source": [
    " Verificar ou criar arquivo de registro"
   ]
  },
  {
   "cell_type": "code",
   "execution_count": 22,
   "id": "91ab8d31-9fc3-4356-83ea-c67aa8f63b80",
   "metadata": {},
   "outputs": [],
   "source": [
    "if os.path.exists(caminho_rel_cargas):  # Arquivo de registro (pode ser alterado)\n",
    "    # Carregar o registro existente\n",
    "    registro_df = pd.read_csv(caminho_rel_cargas)\n",
    "else:\n",
    "    # Criar um DataFrame vazio se o registro não existir\n",
    "    registro_df = pd.DataFrame(columns=['Nome Arquivo', 'Data Modificação'])"
   ]
  },
  {
   "cell_type": "markdown",
   "id": "f98749de-b626-4ba6-abef-2d9476b96b0f",
   "metadata": {},
   "source": [
    "Processar pastas que começam com 'BK_"
   ]
  },
  {
   "cell_type": "code",
   "execution_count": 23,
   "id": "26607ebb-6f93-4739-9b70-c734b45dbb79",
   "metadata": {},
   "outputs": [
    {
     "name": "stdout",
     "output_type": "stream",
     "text": [
      "Arquivo duplicado identificado e não movido: dfPostgreSQL_2024-10-02.csv\n",
      "Arquivo duplicado identificado e não movido: df_db2_2024-10-02.csv\n",
      "Arquivo duplicado identificado e não movido: df_Mysql_2024-10-02.csv\n",
      "Arquivo duplicado identificado e não movido: df_Oracle_2024-10-02.csv\n",
      "Arquivo duplicado identificado e não movido: df_SqlServer_2024-10-02.csv\n",
      "Arquivo duplicado identificado e não movido: df_teradata_2024-10-02.csv\n",
      "Nenhum novo arquivo para adicionar ao registro.\n",
      "Arquivo duplicado identificado e não movido: dfPostgreSQL_2024-11-04.csv\n",
      "Arquivo duplicado identificado e não movido: df_db2_2024-11-04.csv\n",
      "Arquivo duplicado identificado e não movido: df_Mysql_2024-11-04.csv\n",
      "Arquivo duplicado identificado e não movido: df_Oracle_2024-11-04.csv\n",
      "Arquivo duplicado identificado e não movido: df_SqlServer_2024-11-04.csv\n",
      "Arquivo duplicado identificado e não movido: df_teradata_2024-11-04.csv\n",
      "Nenhum novo arquivo para adicionar ao registro.\n",
      "Arquivo duplicado identificado e não movido: dfPostgreSQL_2024-08-07.csv\n",
      "Arquivo duplicado identificado e não movido: df_db2_2024-08-07.csv\n",
      "Arquivo duplicado identificado e não movido: df_Mysql_2024-08-07.csv\n",
      "Arquivo duplicado identificado e não movido: df_Oracle_2024-08-07.csv\n",
      "Arquivo duplicado identificado e não movido: df_SqlServer_2024-08-07.csv\n",
      "Arquivo duplicado identificado e não movido: df_teradata_2024-08-07.csv\n",
      "Nenhum novo arquivo para adicionar ao registro.\n",
      "Nenhum novo arquivo para adicionar ao registro.\n",
      "Nenhum novo arquivo para adicionar ao registro.\n",
      "Nenhum novo arquivo para adicionar ao registro.\n",
      "Nenhum novo arquivo para adicionar ao registro.\n",
      "Nenhum novo arquivo para adicionar ao registro.\n",
      "Arquivo duplicado identificado e não movido: dfPostgreSQL_2024-08-07.csv\n",
      "Arquivo duplicado identificado e não movido: df_db2_2024-08-07.csv\n",
      "Arquivo duplicado identificado e não movido: df_Mysql_2024-08-07.csv\n",
      "Arquivo duplicado identificado e não movido: df_Oracle_2024-08-07.csv\n",
      "Arquivo duplicado identificado e não movido: df_SqlServer_2024-08-07.csv\n",
      "Arquivo duplicado identificado e não movido: df_teradata_2024-08-07.csv\n",
      "Nenhum novo arquivo para adicionar ao registro.\n",
      "Nenhum novo arquivo para adicionar ao registro.\n",
      "Nenhum novo arquivo para adicionar ao registro.\n"
     ]
    }
   ],
   "source": [
    "for nome_pasta in os.listdir(caminho_base):  # Caminho base (pode ser alterado)\n",
    "    caminho_pasta = os.path.join(caminho_base, nome_pasta)\n",
    "    if os.path.isdir(caminho_pasta) and nome_pasta.startswith('BK_'):\n",
    "        # Obter a lista de arquivos na subpasta\n",
    "        arquivos_na_pasta = [f for f in os.listdir(caminho_pasta) if os.path.isfile(os.path.join(caminho_pasta, f))]\n",
    "        \n",
    "        # Lista para armazenar novos registros\n",
    "        novos_registros = []\n",
    "\n",
    "        # Processamento de arquivos na subpasta\n",
    "        for arquivo in arquivos_na_pasta:\n",
    "            # Verificar se o nome do arquivo começa com 'df' (maiúsculo ou minúsculo)\n",
    "            if arquivo.lower().startswith('df'):\n",
    "                caminho_arquivo = os.path.join(caminho_pasta, arquivo)\n",
    "                data_modificacao = obter_data_modificacao(caminho_arquivo)\n",
    "                nome_arquivo_modificado = f\"{os.path.splitext(arquivo)[0]}_{data_modificacao}{os.path.splitext(arquivo)[1]}\"\n",
    "                \n",
    "                # Verificar se o arquivo já está no registro\n",
    "                if not ((registro_df['Nome Arquivo'] == nome_arquivo_modificado) & (registro_df['Data Modificação'] == data_modificacao)).any():\n",
    "                    # Adicionar novo registro\n",
    "                    novos_registros.append({'Nome Arquivo': nome_arquivo_modificado, 'Data Modificação': data_modificacao})\n",
    "                    # Mover e renomear o arquivo para a pasta de dados tratados\n",
    "                    caminho_destino_arquivo = os.path.join(caminho_dados_tratados, nome_arquivo_modificado)  # Pasta tratada (pode ser alterado)\n",
    "                    shutil.move(caminho_arquivo, caminho_destino_arquivo)\n",
    "                    print(f\"Arquivo movido e renomeado para: {caminho_destino_arquivo}\")\n",
    "                else:\n",
    "                    print(f\"Arquivo duplicado identificado e não movido: {nome_arquivo_modificado}\")\n",
    "\n",
    "        # Atualização do registro\n",
    "        if novos_registros:\n",
    "            novos_registros_df = pd.DataFrame(novos_registros)\n",
    "            registro_df = pd.concat([registro_df, novos_registros_df], ignore_index=True)\n",
    "            # Criar o diretório de registro, se não existir\n",
    "            os.makedirs(os.path.dirname(caminho_rel_cargas), exist_ok=True)\n",
    "            # Salvar o registro atualizado\n",
    "            registro_df.to_csv(caminho_rel_cargas, index=False)  # Arquivo de registro (pode ser alterado)\n",
    "            print(f\"{len(novos_registros)} novos arquivos adicionados ao registro.\")\n",
    "        else:\n",
    "            print(\"Nenhum novo arquivo para adicionar ao registro.\")\n"
   ]
  },
  {
   "cell_type": "markdown",
   "id": "799554aa-b6ba-4409-8486-88087eea7010",
   "metadata": {},
   "source": [
    "Atualização do registro"
   ]
  },
  {
   "cell_type": "markdown",
   "id": "727652c4-b117-4ff0-b73e-ca8e325593b8",
   "metadata": {},
   "source": [
    "    \n",
    "        if novos_registros:\n",
    "            novos_registros_df = pd.DataFrame(novos_registros)\n",
    "            registro_df = pd.concat([registro_df, novos_registros_df], ignore_index=True)\n",
    "            # Criar o diretório de registro, se não existir\n",
    "            os.makedirs(os.path.dirname(caminho_rel_cargas), exist_ok=True)\n",
    "            # Salvar o registro atualizado\n",
    "            registro_df.to_csv(caminho_rel_cargas, index=False)  # Arquivo de registro (pode ser alterado)\n",
    "            print(f\"{len(novos_registros)} novos arquivos adicionados ao registro.\")\n",
    "        else:\n",
    "            print(\"Nenhum novo arquivo para adicionar ao registro.\")"
   ]
  }
 ],
 "metadata": {
  "kernelspec": {
   "display_name": "Python 3 (ipykernel)",
   "language": "python",
   "name": "python3"
  },
  "language_info": {
   "codemirror_mode": {
    "name": "ipython",
    "version": 3
   },
   "file_extension": ".py",
   "mimetype": "text/x-python",
   "name": "python",
   "nbconvert_exporter": "python",
   "pygments_lexer": "ipython3",
   "version": "3.12.4"
  }
 },
 "nbformat": 4,
 "nbformat_minor": 5
}
